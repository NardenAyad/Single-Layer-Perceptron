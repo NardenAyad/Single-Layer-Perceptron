{
 "cells": [
  {
   "cell_type": "code",
   "execution_count": 1,
   "metadata": {},
   "outputs": [],
   "source": [
    "import numpy as np\n",
    "\n",
    "class Perceptron:\n",
    "    \"\"\"Perceptron classifier\n",
    "\n",
    "    === Public Attributes ===\n",
    "    learning_rate:\n",
    "        A hyper-parameter that controls how much we are adjusting the weights\n",
    "        of the network with respect the loss gradient.\n",
    "    num_iterations:\n",
    "        Number of iterations of the optimization loop.\n",
    "    weight:\n",
    "        This determines the strength of the connection of the neurons.\n",
    "    bias:\n",
    "        Bias neurons allow the output of an activation funcrtion to be shifted.\n",
    "    \"\"\"\n",
    "    learning_rate: float\n",
    "    num_iterations: int\n",
    "    weight: np.array\n",
    "    bias: np.array\n",
    "\n",
    "    def __init__(self, learning_rate, num_iterations) -> None:\n",
    "        \"\"\"Initialize a new Perceptron with the provided\n",
    "        <learning_rate> and <num_iterations>\n",
    "        \"\"\"\n",
    "        self.learning_rate = learning_rate\n",
    "        self.num_iterations = num_iterations\n",
    "        self.weight = np.array([0])\n",
    "        self.bias = np.array([0])\n",
    "\n",
    "    def net_input(self, x: np.array) -> np.array:\n",
    "        \"\"\"Calculate the input of the activation function\n",
    "\n",
    "        :param x: input data, of shape (n_x, n_samples)\n",
    "        :return: the input of the activation function\n",
    "        \"\"\"\n",
    "        return np.dot(self.weight.T, x) + self.bias\n",
    "\n",
    "    def predict(self, x: np.array) -> np.array:\n",
    "        \"\"\"Activation function.  Calculate the output prediction\n",
    "\n",
    "        :param x: input data, of shape (n_x, n_samples)\n",
    "        :return: the output prediction\n",
    "        \"\"\"\n",
    "        return np.where(self.net_input(x) > 0, 1, -1)\n",
    "\n",
    "    def fit(self, x: np.array, y: np.array) -> np.array:\n",
    "        \"\"\"Fit training data\n",
    "\n",
    "        :param x: input data, of shape (n_x, n_samples)\n",
    "        :param y: true label vector, of shape (1, n_samples)\n",
    "        :return: the output prediction after training data\n",
    "        \"\"\"\n",
    "        m = x.shape[1]\n",
    "        y_pred = np.array\n",
    "        self.weight = np.random.randn(x.shape[0], 1)*0.01\n",
    "        self.bias = np.zeros((1, 1))\n",
    "\n",
    "        for i in range(self.num_iterations):\n",
    "            y_pred = self.predict(x)\n",
    "\n",
    "            dw = (1/m)*np.dot(x, (y_pred-y).T)\n",
    "            db = (1/m)*np.sum(y_pred-y)\n",
    "\n",
    "            self.weight -= self.learning_rate*dw\n",
    "            self.bias -= self.learning_rate*db\n",
    "\n",
    "        return y_pred"
   ]
  },
  {
   "cell_type": "code",
   "execution_count": 2,
   "metadata": {},
   "outputs": [],
   "source": [
    "from sklearn import datasets\n",
    "\n",
    "# acquire Data\n",
    "iris = datasets.load_iris()\n",
    "X = iris.data\n",
    "y = iris.target\n",
    "\n",
    "# select only \"setosa\" and \"versicolor\"\n",
    "# extract only \"sepal length\" and \"petal length\"\n",
    "X = np.delete(X, [1, 3], axis=1)\n",
    "delete_target = np.where(y == 2)\n",
    "y = np.delete(y, delete_target)\n",
    "X = np.delete(X, delete_target, axis=0)\n",
    "y = np.where(y == 0, -1, 1)"
   ]
  },
  {
   "cell_type": "code",
   "execution_count": 3,
   "metadata": {},
   "outputs": [
    {
     "data": {
      "text/html": [
       "<div>\n",
       "<style scoped>\n",
       "    .dataframe tbody tr th:only-of-type {\n",
       "        vertical-align: middle;\n",
       "    }\n",
       "\n",
       "    .dataframe tbody tr th {\n",
       "        vertical-align: top;\n",
       "    }\n",
       "\n",
       "    .dataframe thead th {\n",
       "        text-align: right;\n",
       "    }\n",
       "</style>\n",
       "<table border=\"1\" class=\"dataframe\">\n",
       "  <thead>\n",
       "    <tr style=\"text-align: right;\">\n",
       "      <th></th>\n",
       "      <th>sepal length (cm)</th>\n",
       "      <th>petal length (cm)</th>\n",
       "      <th>target (1: versicolor, -1: setosa)</th>\n",
       "    </tr>\n",
       "  </thead>\n",
       "  <tbody>\n",
       "    <tr>\n",
       "      <th>1</th>\n",
       "      <td>5.1</td>\n",
       "      <td>1.4</td>\n",
       "      <td>-1</td>\n",
       "    </tr>\n",
       "    <tr>\n",
       "      <th>2</th>\n",
       "      <td>4.9</td>\n",
       "      <td>1.4</td>\n",
       "      <td>-1</td>\n",
       "    </tr>\n",
       "    <tr>\n",
       "      <th>3</th>\n",
       "      <td>4.7</td>\n",
       "      <td>1.3</td>\n",
       "      <td>-1</td>\n",
       "    </tr>\n",
       "    <tr>\n",
       "      <th>4</th>\n",
       "      <td>4.6</td>\n",
       "      <td>1.5</td>\n",
       "      <td>-1</td>\n",
       "    </tr>\n",
       "    <tr>\n",
       "      <th>...</th>\n",
       "      <td>...</td>\n",
       "      <td>...</td>\n",
       "      <td>...</td>\n",
       "    </tr>\n",
       "    <tr>\n",
       "      <th>97</th>\n",
       "      <td>5.7</td>\n",
       "      <td>4.2</td>\n",
       "      <td>1</td>\n",
       "    </tr>\n",
       "    <tr>\n",
       "      <th>98</th>\n",
       "      <td>6.2</td>\n",
       "      <td>4.3</td>\n",
       "      <td>1</td>\n",
       "    </tr>\n",
       "    <tr>\n",
       "      <th>99</th>\n",
       "      <td>5.1</td>\n",
       "      <td>3.0</td>\n",
       "      <td>1</td>\n",
       "    </tr>\n",
       "    <tr>\n",
       "      <th>100</th>\n",
       "      <td>5.7</td>\n",
       "      <td>4.1</td>\n",
       "      <td>1</td>\n",
       "    </tr>\n",
       "  </tbody>\n",
       "</table>\n",
       "<p>100 rows × 3 columns</p>\n",
       "</div>"
      ],
      "text/plain": [
       "     sepal length (cm)  petal length (cm)  target (1: versicolor, -1: setosa)\n",
       "1                  5.1                1.4                                  -1\n",
       "2                  4.9                1.4                                  -1\n",
       "3                  4.7                1.3                                  -1\n",
       "4                  4.6                1.5                                  -1\n",
       "..                 ...                ...                                 ...\n",
       "97                 5.7                4.2                                   1\n",
       "98                 6.2                4.3                                   1\n",
       "99                 5.1                3.0                                   1\n",
       "100                5.7                4.1                                   1\n",
       "\n",
       "[100 rows x 3 columns]"
      ]
     },
     "execution_count": 3,
     "metadata": {},
     "output_type": "execute_result"
    }
   ],
   "source": [
    "#use Pandas DataFrame to visualize the data.\n",
    "import pandas as pd\n",
    "\n",
    "pd.set_option('display.max_rows', 9)\n",
    "pd.DataFrame({'sepal length (cm)': X[:, 0], 'petal length (cm)': X[:, 1], \n",
    "              'target (1: versicolor, -1: setosa)': y}, \n",
    "              index=np.arange(1, len(X)+1))"
   ]
  },
  {
   "cell_type": "code",
   "execution_count": 4,
   "metadata": {},
   "outputs": [
    {
     "data": {
      "image/png": "[encoded data removed]",
      "text/plain": [
       "<Figure size 432x288 with 1 Axes>"
      ]
     },
     "metadata": {
      "needs_background": "light"
     },
     "output_type": "display_data"
    }
   ],
   "source": [
    "#use Matplotlib, a Python 2D plotting library, to show a graph of iris dataset.\n",
    "import matplotlib.pyplot as plt\n",
    "\n",
    "setosa = np.where(y == -1)\n",
    "versicolor = np.where(y == 1)\n",
    "plt.scatter(X[setosa, 0], X[setosa, 1],\n",
    "            color='red', marker='o', label='setosa')\n",
    "plt.scatter(X[versicolor, 0], X[versicolor, 1],\n",
    "            color='blue', marker='x', label='versicolor')\n",
    "plt.title('Training a perceptron model on the Iris dataset')\n",
    "plt.xlabel('sepal length (cm)')\n",
    "plt.ylabel('petal length (cm)')\n",
    "plt.legend(loc='upper left')\n",
    "plt.show()"
   ]
  },
  {
   "cell_type": "code",
   "execution_count": 5,
   "metadata": {},
   "outputs": [],
   "source": [
    "# create a Perceptron object by setting the learning rate and number of iterations. \n",
    "# Then, train the perceptron model by calling fit method with two arguments: input data and true label vector.\n",
    "ppn = Perceptron(learning_rate=0.3, num_iterations=10)\n",
    "y_pred = ppn.fit(X.T, y)"
   ]
  },
  {
   "cell_type": "code",
   "execution_count": 6,
   "metadata": {},
   "outputs": [
    {
     "data": {
      "image/png": "[encoded data removed]",
      "text/plain": [
       "<Figure size 432x288 with 1 Axes>"
      ]
     },
     "metadata": {
      "needs_background": "light"
     },
     "output_type": "display_data"
    },
    {
     "name": "stdout",
     "output_type": "stream",
     "text": [
      "Accuracy: 100.0%\n"
     ]
    }
   ],
   "source": [
    "# The result can be visualized by plotting the decision boundary and data. Again, \n",
    "# use Matplotlib to show data with boundary line which was trained by the model.\n",
    "x_ax = np.arange(X[:, 0].min()-1, X[:, 0].max()+1, 0.01)\n",
    "w1 = ppn.weight[0]\n",
    "w2 = ppn.weight[1]\n",
    "b = ppn.bias[0]\n",
    "plt.plot(x_ax, -w1*x_ax/w2 - b/w2, color='black')\n",
    "\n",
    "setosa = np.where(y == -1)\n",
    "versicolor = np.where(y == 1)\n",
    "plt.scatter(X[setosa, 0], X[setosa, 1],\n",
    "            color='red', marker='o', label='setosa')\n",
    "plt.scatter(X[versicolor, 0], X[versicolor, 1],\n",
    "            color='blue', marker='x', label='versicolor')\n",
    "plt.title('Training a perceptron model on the Iris dataset')\n",
    "plt.xlabel('sepal length (cm)')\n",
    "plt.ylabel('petal length (cm)')\n",
    "plt.legend(loc='upper left')\n",
    "plt.show()\n",
    "\n",
    "print('Accuracy: ' + str(np.mean(y_pred == y) * 100) + '%')"
   ]
  },
  {
   "cell_type": "code",
   "execution_count": null,
   "metadata": {},
   "outputs": [],
   "source": []
  }
 ],
 "metadata": {
  "kernelspec": {
   "display_name": "Python 3",
   "language": "python",
   "name": "python3"
  },
  "language_info": {
   "codemirror_mode": {
    "name": "ipython",
    "version": 3
   },
   "file_extension": ".py",
   "mimetype": "text/x-python",
   "name": "python",
   "nbconvert_exporter": "python",
   "pygments_lexer": "ipython3",
   "version": "3.8.8"
  }
 },
 "nbformat": 4,
 "nbformat_minor": 2
}
